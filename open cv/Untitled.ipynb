{
 "cells": [
  {
   "cell_type": "code",
   "execution_count": 3,
   "metadata": {},
   "outputs": [
    {
     "name": "stdout",
     "output_type": "stream",
     "text": [
      "[]\n"
     ]
    }
   ],
   "source": [
    "import numpy as np\n",
    "import cv2\n",
    "\n",
    "# Read input image\n",
    "img = cv2.imread('car.jpg')\n",
    "\n",
    "# Convert to Grayscale\n",
    "gray = cv2.cvtColor(img, cv2.COLOR_BGR2GRAY)\n",
    "\n",
    "# Convert to binary image - use THRESH_OTSU for automatic threshold.\n",
    "_, thresh = cv2.threshold(gray, 0, 255, cv2.THRESH_BINARY + cv2.THRESH_OTSU)\n",
    "\n",
    "# Find contours and hierarchy, use RETR_TREE for creating a tree of contours within contours\n",
    "cnts, hiers = cv2.findContours(thresh, cv2.RETR_TREE, cv2.CHAIN_APPROX_NONE)[-2:]  # [-2:] indexing takes return value before last (due to OpenCV compatibility issues).\n",
    "\n",
    "# https://docs.opencv.org/master/d9/d8b/tutorial_py_contours_hierarchy.html\n",
    "# Hierarchy Representation in OpenCV\n",
    "# So each contour has its own information regarding what hierarchy it is, who is its child, who is its parent etc. \n",
    "# OpenCV represents it as an array of four values : [Next, Previous, First_Child, Parent]\n",
    "parent = hiers[0, :, 3]\n",
    "\n",
    "# Find parent contour with the maximum number of child contours\n",
    "# Use np.bincount for counting the number of instances of each parent value.\n",
    "# https://docs.scipy.org/doc/numpy/reference/generated/numpy.bincount.html#numpy.bincount\n",
    "hist = np.bincount(np.maximum(parent, 0))\n",
    "max_n_childs_idx = hist.argmax()\n",
    "\n",
    "# Get the contour with the maximum child contours\n",
    "c = cnts[max_n_childs_idx]\n",
    "\n",
    "# Get bounding rectangle\n",
    "x, y, w, h = cv2.boundingRect(c)\n",
    "\n",
    "# Crop the bounding rectangle out of img\n",
    "img = img[y:y+h, x:x+w, :]\n",
    "gray = cv2.cvtColor(img, cv2.COLOR_BGR2GRAY)\n",
    "\n",
    "# Convert to binary image (after cropping) and invert polarity\n",
    "_, thresh = cv2.threshold(gray, 0, 255, cv2.THRESH_BINARY_INV + cv2.THRESH_OTSU)\n",
    "\n",
    "#cv2.imshow('thresh', thresh);cv2.waitKey(0);cv2.destroyAllWindows()\n",
    "\n",
    "# Find connected components (clusters)\n",
    "nlabel,labels,stats,centroids = cv2.connectedComponentsWithStats(thresh, connectivity=8)\n",
    "\n",
    "# Delete large, small, tall and wide clusters - not letters for sure\n",
    "max_area = 2000\n",
    "min_area = 10\n",
    "max_width = 100\n",
    "max_height = 100\n",
    "for i in range(1, nlabel):\n",
    "    if (stats[i, cv2.CC_STAT_AREA] > max_area) or \\\n",
    "       (stats[i, cv2.CC_STAT_AREA] < min_area) or \\\n",
    "       (stats[i, cv2.CC_STAT_WIDTH] > max_width) or \\\n",
    "       (stats[i, cv2.CC_STAT_HEIGHT] > max_height):\n",
    "        thresh[labels == i] = 0\n",
    "\n",
    "#cv2.imshow('thresh', thresh);cv2.waitKey(0);cv2.destroyAllWindows()\n",
    "\n",
    "# Use \"closing\" morphological operation for uniting text area\n",
    "thresh = cv2.morphologyEx(thresh, cv2.MORPH_CLOSE, np.ones((50, 50)))\n",
    "\n",
    "# Find contours once more\n",
    "cnts = cv2.findContours(thresh, cv2.RETR_EXTERNAL, cv2.CHAIN_APPROX_NONE)[-2]\n",
    "print(cnts)\n",
    "\n",
    "# Get contour with maximum area\n",
    "c = max(cnts, key=cv2.contourArea)\n",
    "\n",
    "# Get bounding rectangle\n",
    "x, y, w, h = cv2.boundingRect(c)\n",
    "\n",
    "# Crop the bounding rectangle out of img (leave some margins)\n",
    "out = img[y-5:y+h+5, x-5:x+w+5]\n",
    "\n",
    "# Show output\n",
    "cv2.imshow('out', out);\n",
    "cv2.waitKey(0);\n",
    "cv2.destroyAllWindows()"
   ]
  },
  {
   "cell_type": "code",
   "execution_count": null,
   "metadata": {},
   "outputs": [],
   "source": []
  }
 ],
 "metadata": {
  "kernelspec": {
   "display_name": "Python 3",
   "language": "python",
   "name": "python3"
  },
  "language_info": {
   "codemirror_mode": {
    "name": "ipython",
    "version": 3
   },
   "file_extension": ".py",
   "mimetype": "text/x-python",
   "name": "python",
   "nbconvert_exporter": "python",
   "pygments_lexer": "ipython3",
   "version": "3.7.4"
  }
 },
 "nbformat": 4,
 "nbformat_minor": 2
}
