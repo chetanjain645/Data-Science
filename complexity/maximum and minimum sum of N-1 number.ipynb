{
 "cells": [
  {
   "cell_type": "code",
   "execution_count": 15,
   "metadata": {},
   "outputs": [
    {
     "name": "stdout",
     "output_type": "stream",
     "text": [
      "How many number do you want : 5\n",
      "input values : 5 4 3 2 1\n",
      "10 14\n"
     ]
    }
   ],
   "source": [
    "N = int(input(\"How many number do you want : \"))\n",
    "\n",
    "x = input(\"input values : \")\n",
    "if int(len(x.split())) == N:\n",
    "    lis = x.split()\n",
    "    for i in range(len(lis)):\n",
    "        lis[i] = int(lis[i])    \n",
    "        \n",
    "    lis = sorted(lis)\n",
    "    maxi = 0\n",
    "    mini = 0\n",
    "    for i in range(len(lis)-1):\n",
    "        maxi = maxi+lis[i]\n",
    "        mini = mini + lis[(len(lis)-1) - i]\n",
    "    \n",
    "    print(maxi, mini)  \n",
    "\n",
    "else:\n",
    "    print(\"number of inputs are wrong\")\n",
    "    \n",
    "  "
   ]
  },
  {
   "cell_type": "code",
   "execution_count": null,
   "metadata": {},
   "outputs": [],
   "source": []
  }
 ],
 "metadata": {
  "kernelspec": {
   "display_name": "Python 3",
   "language": "python",
   "name": "python3"
  },
  "language_info": {
   "codemirror_mode": {
    "name": "ipython",
    "version": 3
   },
   "file_extension": ".py",
   "mimetype": "text/x-python",
   "name": "python",
   "nbconvert_exporter": "python",
   "pygments_lexer": "ipython3",
   "version": "3.7.4"
  }
 },
 "nbformat": 4,
 "nbformat_minor": 2
}
